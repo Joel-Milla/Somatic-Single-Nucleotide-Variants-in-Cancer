{
 "cells": [
  {
   "cell_type": "code",
   "execution_count": 7,
   "id": "815fd062-1979-47b7-b3ef-3ec2b77685d8",
   "metadata": {},
   "outputs": [],
   "source": [
    "import numpy as np\n",
    "import matplotlib.pyplot as plt\n",
    "import pandas as pd"
   ]
  },
  {
   "cell_type": "markdown",
   "id": "c9b230bc-5eb8-462f-9c29-31c09a9c8c22",
   "metadata": {},
   "source": [
    "The next section reads the files .txt that include the features, and the .bed file which include the #chromosome, start/end position of the true SNVs. The code does:\n",
    "- Save in a set a tuple of (# chromosome, start position, end position) which are the true SNVs\n",
    "- After that, iterate over each .txt file and check in each row if their SNV -(# chromosome, start position, end position)- exists in the previous set. If yes, save as True, else is False\n",
    "- Save the dataframe as a .txt file"
   ]
  },
  {
   "cell_type": "code",
   "execution_count": 8,
   "id": "63bd6c10-4c1b-4f52-815c-3d4b40639171",
   "metadata": {},
   "outputs": [],
   "source": [
    "folders = [\"real1\", \"syn1\", \"syn2\", \"syn3\", \"syn4\", \"syn5\"]\n",
    "\n",
    "for name in folders:\n",
    "    features = pd.read_csv(f'../data/{name}/snv-parse-{name}.txt', sep='\\t', dtype={'Chr': str})\n",
    "    truth = pd.read_csv(f'../data/{name}/{name}_truth.bed', sep='\\t', header=None, names=['Chr', 'START_POS_REF', 'END_POS_REF'], dtype={'Chr': str})\n",
    "    \n",
    "    # Create a set of true SNV positions from the BED file\n",
    "    true_snv_set = set(zip(truth['Chr'], truth['START_POS_REF'], truth['END_POS_REF']))\n",
    "    \n",
    "    # Add a new column 'True_SNV' to indicate if the SNV is in ground truth\n",
    "    features['True_SNV'] = features.apply(lambda row: (row['Chr'], row['START_POS_REF'], row['END_POS_REF']) in true_snv_set, axis=1)\n",
    "    \n",
    "    # Save the final dataset with the new column\n",
    "    features.to_csv(f'../data/{name}/snv-parse-{name}-labeled.txt', sep='\\t', index=False)"
   ]
  },
  {
   "cell_type": "markdown",
   "id": "c91219f5-4f07-461b-9e95-f89355c536d9",
   "metadata": {},
   "source": [
    "Perform the same operation as before but for the real2 set, which is just because of names problems"
   ]
  },
  {
   "cell_type": "code",
   "execution_count": 9,
   "id": "6fbf43ab-ccdd-4650-81ae-e2fca3e81249",
   "metadata": {},
   "outputs": [],
   "source": [
    "features = pd.read_csv('../data/real2_part1/snv-parse-real2_part1.txt', sep='\\t', dtype={'Chr': str})\n",
    "truth = pd.read_csv('../data/real2_part1/real2_truth_chr1to5.bed', sep='\\t', header=None, names=['Chr', 'START_POS_REF', 'END_POS_REF'], dtype={'Chr': str})\n",
    "\n",
    "# Create a set of true SNV positions from the BED file\n",
    "true_snv_set = set(zip(truth['Chr'], truth['START_POS_REF'], truth['END_POS_REF']))\n",
    "\n",
    "# Add a new column 'True_SNV' to indicate if the SNV is in ground truth\n",
    "features['True_SNV'] = features.apply(lambda row: (row['Chr'], row['START_POS_REF'], row['END_POS_REF']) in true_snv_set, axis=1)\n",
    "\n",
    "# Save the final dataset with the new column\n",
    "features.to_csv('../data/real2_part1/snv-parse-real2_part1-labeled.txt', sep='\\t', index=False)"
   ]
  },
  {
   "cell_type": "code",
   "execution_count": null,
   "id": "d01abc1f-e729-4ef3-a19d-7ea12771c003",
   "metadata": {},
   "outputs": [],
   "source": []
  }
 ],
 "metadata": {
  "kernelspec": {
   "display_name": "Python 3 (ipykernel)",
   "language": "python",
   "name": "python3"
  },
  "language_info": {
   "codemirror_mode": {
    "name": "ipython",
    "version": 3
   },
   "file_extension": ".py",
   "mimetype": "text/x-python",
   "name": "python",
   "nbconvert_exporter": "python",
   "pygments_lexer": "ipython3",
   "version": "3.10.16"
  }
 },
 "nbformat": 4,
 "nbformat_minor": 5
}
