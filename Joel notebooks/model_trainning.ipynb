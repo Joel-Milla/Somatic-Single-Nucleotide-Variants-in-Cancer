{
 "cells": [
  {
   "cell_type": "code",
   "execution_count": 2,
   "id": "8316b927-a051-41b0-9e09-8a0070e399c7",
   "metadata": {},
   "outputs": [],
   "source": [
    "import numpy as np\n",
    "import matplotlib.pyplot as plt\n",
    "import pandas as pd"
   ]
  },
  {
   "cell_type": "code",
   "execution_count": 3,
   "id": "a6282a17-452c-4f5a-89b0-bb88d1f19fce",
   "metadata": {},
   "outputs": [],
   "source": [
    "data = pd.read_csv('./data/real1/snv-parse-real1.txt', sep='\\t', dtype={'Chr': str})\n",
    "data['Chr'] = data['Chr'].astype('str') "
   ]
  },
  {
   "cell_type": "code",
   "execution_count": 4,
   "id": "bbee8d62-71fc-4684-89e3-911a411ea9bd",
   "metadata": {},
   "outputs": [],
   "source": [
    "truth = pd.read_csv('./real1/real1_truth.bed', sep='\\t', header=None)"
   ]
  },
  {
   "cell_type": "code",
   "execution_count": 5,
   "id": "fc6d925d-fed2-4169-aaa6-6fc399c288f3",
   "metadata": {},
   "outputs": [],
   "source": [
    "data = pd.read_csv('./data/real1/snv-parse-real1.txt', sep='\\t', dtype={'Chr': str})\n",
    "\n",
    "truth = pd.read_csv('./data/real1/real1_truth.bed', sep='\\t', header=None, names=['Chr', 'START_POS_REF', 'END_POS_REF'])\n",
    "\n",
    "#'Chr' is treated as string in both datasets\n",
    "data['Chr'] = data['Chr'].astype(str)\n",
    "truth['Chr'] = truth['Chr'].astype(str)\n",
    "\n",
    "# Create a set of true SNV positions from the BED file\n",
    "true_snv_set = set(zip(truth['Chr'], truth['START_POS_REF'], truth['END_POS_REF']))\n",
    "\n",
    "# Add a new column 'True_SNV' to indicate if the SNV is in ground truth\n",
    "data['True_SNV'] = data.apply(lambda row: (row['Chr'], row['START_POS_REF'], row['END_POS_REF']) in true_snv_set, axis=1)\n",
    "\n",
    "# Save the final dataset with the new column\n",
    "data.to_csv('./data/real1/snv-parse-real1-labeled.txt', sep='\\t', index=False)"
   ]
  },
  {
   "cell_type": "code",
   "execution_count": 6,
   "id": "e6f03984-463f-42a7-beb1-8b74b232fa49",
   "metadata": {},
   "outputs": [
    {
     "data": {
      "text/html": [
       "<div>\n",
       "<style scoped>\n",
       "    .dataframe tbody tr th:only-of-type {\n",
       "        vertical-align: middle;\n",
       "    }\n",
       "\n",
       "    .dataframe tbody tr th {\n",
       "        vertical-align: top;\n",
       "    }\n",
       "\n",
       "    .dataframe thead th {\n",
       "        text-align: right;\n",
       "    }\n",
       "</style>\n",
       "<table border=\"1\" class=\"dataframe\">\n",
       "  <thead>\n",
       "    <tr style=\"text-align: right;\">\n",
       "      <th></th>\n",
       "      <th>Chr</th>\n",
       "      <th>START_POS_REF</th>\n",
       "      <th>END_POS_REF</th>\n",
       "      <th>REF</th>\n",
       "      <th>ALT</th>\n",
       "      <th>REF_MFVdVs</th>\n",
       "      <th>ALT_MFVdVs</th>\n",
       "      <th>Sample_Name</th>\n",
       "      <th>FILTER_Mutect2</th>\n",
       "      <th>FILTER_Freebayes</th>\n",
       "      <th>FILTER_Vardict</th>\n",
       "      <th>FILTER_Varscan</th>\n",
       "      <th>m2_MQ</th>\n",
       "      <th>f_MQMR</th>\n",
       "      <th>vs_SSC</th>\n",
       "      <th>vs_SPV</th>\n",
       "      <th>vd_SSF</th>\n",
       "      <th>vd_MSI</th>\n",
       "      <th>True_SNV</th>\n",
       "    </tr>\n",
       "  </thead>\n",
       "  <tbody>\n",
       "    <tr>\n",
       "      <th>0</th>\n",
       "      <td>1</td>\n",
       "      <td>13110</td>\n",
       "      <td>13110</td>\n",
       "      <td>G</td>\n",
       "      <td>A</td>\n",
       "      <td>G/NA/G/G/</td>\n",
       "      <td>A/NA/A/A/</td>\n",
       "      <td>icgc_cll-T</td>\n",
       "      <td>True</td>\n",
       "      <td>False</td>\n",
       "      <td>False</td>\n",
       "      <td>False</td>\n",
       "      <td>41.91</td>\n",
       "      <td>NaN</td>\n",
       "      <td>2.0</td>\n",
       "      <td>0.522430</td>\n",
       "      <td>0.23427</td>\n",
       "      <td>2.0</td>\n",
       "      <td>False</td>\n",
       "    </tr>\n",
       "    <tr>\n",
       "      <th>1</th>\n",
       "      <td>1</td>\n",
       "      <td>15015</td>\n",
       "      <td>15015</td>\n",
       "      <td>G</td>\n",
       "      <td>C</td>\n",
       "      <td>G/NA/NA/G/</td>\n",
       "      <td>C/NA/NA/C/</td>\n",
       "      <td>icgc_cll-T</td>\n",
       "      <td>True</td>\n",
       "      <td>False</td>\n",
       "      <td>False</td>\n",
       "      <td>False</td>\n",
       "      <td>43.42</td>\n",
       "      <td>NaN</td>\n",
       "      <td>5.0</td>\n",
       "      <td>0.302390</td>\n",
       "      <td>NaN</td>\n",
       "      <td>NaN</td>\n",
       "      <td>False</td>\n",
       "    </tr>\n",
       "    <tr>\n",
       "      <th>2</th>\n",
       "      <td>1</td>\n",
       "      <td>16949</td>\n",
       "      <td>16949</td>\n",
       "      <td>A</td>\n",
       "      <td>C</td>\n",
       "      <td>NA/NA/NA/A/</td>\n",
       "      <td>NA/NA/NA/C/</td>\n",
       "      <td>icgc_cll-T</td>\n",
       "      <td>False</td>\n",
       "      <td>False</td>\n",
       "      <td>False</td>\n",
       "      <td>True</td>\n",
       "      <td>NaN</td>\n",
       "      <td>NaN</td>\n",
       "      <td>16.0</td>\n",
       "      <td>0.023282</td>\n",
       "      <td>NaN</td>\n",
       "      <td>NaN</td>\n",
       "      <td>False</td>\n",
       "    </tr>\n",
       "    <tr>\n",
       "      <th>3</th>\n",
       "      <td>1</td>\n",
       "      <td>40552</td>\n",
       "      <td>40552</td>\n",
       "      <td>T</td>\n",
       "      <td>C</td>\n",
       "      <td>NA/NA/NA/T/</td>\n",
       "      <td>NA/NA/NA/C/</td>\n",
       "      <td>icgc_cll-T</td>\n",
       "      <td>False</td>\n",
       "      <td>False</td>\n",
       "      <td>False</td>\n",
       "      <td>True</td>\n",
       "      <td>NaN</td>\n",
       "      <td>NaN</td>\n",
       "      <td>26.0</td>\n",
       "      <td>0.002231</td>\n",
       "      <td>NaN</td>\n",
       "      <td>NaN</td>\n",
       "      <td>False</td>\n",
       "    </tr>\n",
       "    <tr>\n",
       "      <th>4</th>\n",
       "      <td>1</td>\n",
       "      <td>46907</td>\n",
       "      <td>46907</td>\n",
       "      <td>T</td>\n",
       "      <td>C</td>\n",
       "      <td>NA/NA/NA/T/</td>\n",
       "      <td>NA/NA/NA/C/</td>\n",
       "      <td>icgc_cll-T</td>\n",
       "      <td>False</td>\n",
       "      <td>False</td>\n",
       "      <td>False</td>\n",
       "      <td>True</td>\n",
       "      <td>NaN</td>\n",
       "      <td>NaN</td>\n",
       "      <td>17.0</td>\n",
       "      <td>0.017670</td>\n",
       "      <td>NaN</td>\n",
       "      <td>NaN</td>\n",
       "      <td>False</td>\n",
       "    </tr>\n",
       "  </tbody>\n",
       "</table>\n",
       "</div>"
      ],
      "text/plain": [
       "  Chr  START_POS_REF  END_POS_REF REF ALT   REF_MFVdVs   ALT_MFVdVs  \\\n",
       "0   1          13110        13110   G   A    G/NA/G/G/    A/NA/A/A/   \n",
       "1   1          15015        15015   G   C   G/NA/NA/G/   C/NA/NA/C/   \n",
       "2   1          16949        16949   A   C  NA/NA/NA/A/  NA/NA/NA/C/   \n",
       "3   1          40552        40552   T   C  NA/NA/NA/T/  NA/NA/NA/C/   \n",
       "4   1          46907        46907   T   C  NA/NA/NA/T/  NA/NA/NA/C/   \n",
       "\n",
       "  Sample_Name  FILTER_Mutect2  FILTER_Freebayes  FILTER_Vardict  \\\n",
       "0  icgc_cll-T            True             False           False   \n",
       "1  icgc_cll-T            True             False           False   \n",
       "2  icgc_cll-T           False             False           False   \n",
       "3  icgc_cll-T           False             False           False   \n",
       "4  icgc_cll-T           False             False           False   \n",
       "\n",
       "   FILTER_Varscan  m2_MQ  f_MQMR  vs_SSC    vs_SPV   vd_SSF  vd_MSI  True_SNV  \n",
       "0           False  41.91     NaN     2.0  0.522430  0.23427     2.0     False  \n",
       "1           False  43.42     NaN     5.0  0.302390      NaN     NaN     False  \n",
       "2            True    NaN     NaN    16.0  0.023282      NaN     NaN     False  \n",
       "3            True    NaN     NaN    26.0  0.002231      NaN     NaN     False  \n",
       "4            True    NaN     NaN    17.0  0.017670      NaN     NaN     False  "
      ]
     },
     "execution_count": 6,
     "metadata": {},
     "output_type": "execute_result"
    }
   ],
   "source": [
    "data = pd.read_csv('./data/real1/snv-parse-real1-labeled.txt', sep='\\t', dtype={'Chr': str})\n",
    "data.head()"
   ]
  },
  {
   "cell_type": "code",
   "execution_count": 7,
   "id": "7c291905-c8ec-46c7-a39b-c458da9470dc",
   "metadata": {},
   "outputs": [
    {
     "data": {
      "text/html": [
       "<div>\n",
       "<style scoped>\n",
       "    .dataframe tbody tr th:only-of-type {\n",
       "        vertical-align: middle;\n",
       "    }\n",
       "\n",
       "    .dataframe tbody tr th {\n",
       "        vertical-align: top;\n",
       "    }\n",
       "\n",
       "    .dataframe thead th {\n",
       "        text-align: right;\n",
       "    }\n",
       "</style>\n",
       "<table border=\"1\" class=\"dataframe\">\n",
       "  <thead>\n",
       "    <tr style=\"text-align: right;\">\n",
       "      <th></th>\n",
       "      <th>Chr</th>\n",
       "      <th>START_POS_REF</th>\n",
       "      <th>END_POS_REF</th>\n",
       "      <th>FILTER_Mutect2</th>\n",
       "      <th>FILTER_Freebayes</th>\n",
       "      <th>FILTER_Vardict</th>\n",
       "      <th>FILTER_Varscan</th>\n",
       "      <th>m2_MQ</th>\n",
       "      <th>f_MQMR</th>\n",
       "      <th>vs_SSC</th>\n",
       "      <th>vs_SPV</th>\n",
       "      <th>vd_SSF</th>\n",
       "      <th>vd_MSI</th>\n",
       "      <th>True_SNV</th>\n",
       "    </tr>\n",
       "  </thead>\n",
       "  <tbody>\n",
       "    <tr>\n",
       "      <th>0</th>\n",
       "      <td>1</td>\n",
       "      <td>13110</td>\n",
       "      <td>13110</td>\n",
       "      <td>True</td>\n",
       "      <td>False</td>\n",
       "      <td>False</td>\n",
       "      <td>False</td>\n",
       "      <td>41.91</td>\n",
       "      <td>NaN</td>\n",
       "      <td>2.0</td>\n",
       "      <td>0.522430</td>\n",
       "      <td>0.23427</td>\n",
       "      <td>2.0</td>\n",
       "      <td>False</td>\n",
       "    </tr>\n",
       "    <tr>\n",
       "      <th>1</th>\n",
       "      <td>1</td>\n",
       "      <td>15015</td>\n",
       "      <td>15015</td>\n",
       "      <td>True</td>\n",
       "      <td>False</td>\n",
       "      <td>False</td>\n",
       "      <td>False</td>\n",
       "      <td>43.42</td>\n",
       "      <td>NaN</td>\n",
       "      <td>5.0</td>\n",
       "      <td>0.302390</td>\n",
       "      <td>NaN</td>\n",
       "      <td>NaN</td>\n",
       "      <td>False</td>\n",
       "    </tr>\n",
       "    <tr>\n",
       "      <th>2</th>\n",
       "      <td>1</td>\n",
       "      <td>16949</td>\n",
       "      <td>16949</td>\n",
       "      <td>False</td>\n",
       "      <td>False</td>\n",
       "      <td>False</td>\n",
       "      <td>True</td>\n",
       "      <td>NaN</td>\n",
       "      <td>NaN</td>\n",
       "      <td>16.0</td>\n",
       "      <td>0.023282</td>\n",
       "      <td>NaN</td>\n",
       "      <td>NaN</td>\n",
       "      <td>False</td>\n",
       "    </tr>\n",
       "    <tr>\n",
       "      <th>3</th>\n",
       "      <td>1</td>\n",
       "      <td>40552</td>\n",
       "      <td>40552</td>\n",
       "      <td>False</td>\n",
       "      <td>False</td>\n",
       "      <td>False</td>\n",
       "      <td>True</td>\n",
       "      <td>NaN</td>\n",
       "      <td>NaN</td>\n",
       "      <td>26.0</td>\n",
       "      <td>0.002231</td>\n",
       "      <td>NaN</td>\n",
       "      <td>NaN</td>\n",
       "      <td>False</td>\n",
       "    </tr>\n",
       "    <tr>\n",
       "      <th>4</th>\n",
       "      <td>1</td>\n",
       "      <td>46907</td>\n",
       "      <td>46907</td>\n",
       "      <td>False</td>\n",
       "      <td>False</td>\n",
       "      <td>False</td>\n",
       "      <td>True</td>\n",
       "      <td>NaN</td>\n",
       "      <td>NaN</td>\n",
       "      <td>17.0</td>\n",
       "      <td>0.017670</td>\n",
       "      <td>NaN</td>\n",
       "      <td>NaN</td>\n",
       "      <td>False</td>\n",
       "    </tr>\n",
       "  </tbody>\n",
       "</table>\n",
       "</div>"
      ],
      "text/plain": [
       "  Chr  START_POS_REF  END_POS_REF  FILTER_Mutect2  FILTER_Freebayes  \\\n",
       "0   1          13110        13110            True             False   \n",
       "1   1          15015        15015            True             False   \n",
       "2   1          16949        16949           False             False   \n",
       "3   1          40552        40552           False             False   \n",
       "4   1          46907        46907           False             False   \n",
       "\n",
       "   FILTER_Vardict  FILTER_Varscan  m2_MQ  f_MQMR  vs_SSC    vs_SPV   vd_SSF  \\\n",
       "0           False           False  41.91     NaN     2.0  0.522430  0.23427   \n",
       "1           False           False  43.42     NaN     5.0  0.302390      NaN   \n",
       "2           False            True    NaN     NaN    16.0  0.023282      NaN   \n",
       "3           False            True    NaN     NaN    26.0  0.002231      NaN   \n",
       "4           False            True    NaN     NaN    17.0  0.017670      NaN   \n",
       "\n",
       "   vd_MSI  True_SNV  \n",
       "0     2.0     False  \n",
       "1     NaN     False  \n",
       "2     NaN     False  \n",
       "3     NaN     False  \n",
       "4     NaN     False  "
      ]
     },
     "execution_count": 7,
     "metadata": {},
     "output_type": "execute_result"
    }
   ],
   "source": [
    "# clean columns\n",
    "# Drop non-numeric variables\n",
    "non_numeric_cols = ['REF', 'ALT', 'REF_MFVdVs', 'ALT_MFVdVs', 'Sample_Name']\n",
    "data = data.drop(columns=non_numeric_cols)\n",
    "data.head()"
   ]
  },
  {
   "cell_type": "code",
   "execution_count": 8,
   "id": "879ad497-ea03-4f63-8a41-49bb6bc9e42a",
   "metadata": {},
   "outputs": [
    {
     "data": {
      "text/html": [
       "<div>\n",
       "<style scoped>\n",
       "    .dataframe tbody tr th:only-of-type {\n",
       "        vertical-align: middle;\n",
       "    }\n",
       "\n",
       "    .dataframe tbody tr th {\n",
       "        vertical-align: top;\n",
       "    }\n",
       "\n",
       "    .dataframe thead th {\n",
       "        text-align: right;\n",
       "    }\n",
       "</style>\n",
       "<table border=\"1\" class=\"dataframe\">\n",
       "  <thead>\n",
       "    <tr style=\"text-align: right;\">\n",
       "      <th></th>\n",
       "      <th>Chr</th>\n",
       "      <th>START_POS_REF</th>\n",
       "      <th>END_POS_REF</th>\n",
       "      <th>FILTER_Mutect2</th>\n",
       "      <th>FILTER_Freebayes</th>\n",
       "      <th>FILTER_Vardict</th>\n",
       "      <th>FILTER_Varscan</th>\n",
       "      <th>True_SNV</th>\n",
       "    </tr>\n",
       "  </thead>\n",
       "  <tbody>\n",
       "    <tr>\n",
       "      <th>0</th>\n",
       "      <td>1</td>\n",
       "      <td>13110</td>\n",
       "      <td>13110</td>\n",
       "      <td>True</td>\n",
       "      <td>False</td>\n",
       "      <td>False</td>\n",
       "      <td>False</td>\n",
       "      <td>False</td>\n",
       "    </tr>\n",
       "    <tr>\n",
       "      <th>1</th>\n",
       "      <td>1</td>\n",
       "      <td>15015</td>\n",
       "      <td>15015</td>\n",
       "      <td>True</td>\n",
       "      <td>False</td>\n",
       "      <td>False</td>\n",
       "      <td>False</td>\n",
       "      <td>False</td>\n",
       "    </tr>\n",
       "    <tr>\n",
       "      <th>2</th>\n",
       "      <td>1</td>\n",
       "      <td>16949</td>\n",
       "      <td>16949</td>\n",
       "      <td>False</td>\n",
       "      <td>False</td>\n",
       "      <td>False</td>\n",
       "      <td>True</td>\n",
       "      <td>False</td>\n",
       "    </tr>\n",
       "    <tr>\n",
       "      <th>3</th>\n",
       "      <td>1</td>\n",
       "      <td>40552</td>\n",
       "      <td>40552</td>\n",
       "      <td>False</td>\n",
       "      <td>False</td>\n",
       "      <td>False</td>\n",
       "      <td>True</td>\n",
       "      <td>False</td>\n",
       "    </tr>\n",
       "    <tr>\n",
       "      <th>4</th>\n",
       "      <td>1</td>\n",
       "      <td>46907</td>\n",
       "      <td>46907</td>\n",
       "      <td>False</td>\n",
       "      <td>False</td>\n",
       "      <td>False</td>\n",
       "      <td>True</td>\n",
       "      <td>False</td>\n",
       "    </tr>\n",
       "  </tbody>\n",
       "</table>\n",
       "</div>"
      ],
      "text/plain": [
       "  Chr  START_POS_REF  END_POS_REF  FILTER_Mutect2  FILTER_Freebayes  \\\n",
       "0   1          13110        13110            True             False   \n",
       "1   1          15015        15015            True             False   \n",
       "2   1          16949        16949           False             False   \n",
       "3   1          40552        40552           False             False   \n",
       "4   1          46907        46907           False             False   \n",
       "\n",
       "   FILTER_Vardict  FILTER_Varscan  True_SNV  \n",
       "0           False           False     False  \n",
       "1           False           False     False  \n",
       "2           False            True     False  \n",
       "3           False            True     False  \n",
       "4           False            True     False  "
      ]
     },
     "execution_count": 8,
     "metadata": {},
     "output_type": "execute_result"
    }
   ],
   "source": [
    "# clean columns\n",
    "# Drop nan variables\n",
    "non_numeric_cols = ['m2_MQ', 'f_MQMR', 'vs_SSC', 'vs_SPV', 'vd_SSF', 'vd_MSI']\n",
    "data = data.drop(columns=non_numeric_cols)\n",
    "data.head()"
   ]
  },
  {
   "cell_type": "code",
   "execution_count": 9,
   "id": "2837d428-9cd3-4773-ad3d-7de33e50c1c3",
   "metadata": {},
   "outputs": [
    {
     "data": {
      "text/plain": [
       "Chr                 0\n",
       "START_POS_REF       0\n",
       "END_POS_REF         0\n",
       "FILTER_Mutect2      0\n",
       "FILTER_Freebayes    0\n",
       "FILTER_Vardict      0\n",
       "FILTER_Varscan      0\n",
       "True_SNV            0\n",
       "dtype: int64"
      ]
     },
     "execution_count": 9,
     "metadata": {},
     "output_type": "execute_result"
    }
   ],
   "source": [
    "data.isnull().sum()"
   ]
  },
  {
   "cell_type": "code",
   "execution_count": 10,
   "id": "964add30-2ca7-48a9-b3ed-0c86f2b24341",
   "metadata": {},
   "outputs": [
    {
     "data": {
      "text/plain": [
       "array([['1', 13110, 13110, ..., False, False, False],\n",
       "       ['1', 15015, 15015, ..., False, False, False],\n",
       "       ['1', 16949, 16949, ..., False, False, True],\n",
       "       ...,\n",
       "       ['Y', 59030255, 59030255, ..., False, False, False],\n",
       "       ['Y', 59031439, 59031439, ..., False, False, False],\n",
       "       ['Y', 59031799, 59031799, ..., False, False, False]],\n",
       "      shape=(49320, 7), dtype=object)"
      ]
     },
     "execution_count": 10,
     "metadata": {},
     "output_type": "execute_result"
    }
   ],
   "source": [
    "X = data.iloc[:, :-1].values\n",
    "y = data.iloc[:, -1].values\n",
    "X"
   ]
  },
  {
   "cell_type": "code",
   "execution_count": 11,
   "id": "5e5f3dca-e471-459e-9957-0b938d4dd86f",
   "metadata": {},
   "outputs": [
    {
     "name": "stdout",
     "output_type": "stream",
     "text": [
      "(49320, 7)\n"
     ]
    },
    {
     "data": {
      "text/plain": [
       "array([[1., 0., 0., ..., 0., 0., 0.],\n",
       "       [1., 0., 0., ..., 0., 0., 0.],\n",
       "       [1., 0., 0., ..., 0., 1., 0.],\n",
       "       ...,\n",
       "       [0., 0., 0., ..., 0., 0., 0.],\n",
       "       [0., 0., 0., ..., 0., 0., 0.],\n",
       "       [0., 0., 0., ..., 0., 0., 0.]], shape=(49320, 80))"
      ]
     },
     "execution_count": 11,
     "metadata": {},
     "output_type": "execute_result"
    }
   ],
   "source": [
    "# Clean the data\n",
    "from sklearn.compose import ColumnTransformer\n",
    "from sklearn.preprocessing import OneHotEncoder\n",
    "data = pd.read_csv('./data/real1/snv-parse-real1-labeled.txt', sep='\\t', dtype={'Chr': str})\n",
    "non_numeric_cols = ['REF', 'ALT', 'REF_MFVdVs', 'ALT_MFVdVs', 'Sample_Name', 'm2_MQ', 'f_MQMR', 'vs_SSC', 'vs_SPV', 'vd_SSF', 'vd_MSI']\n",
    "data = data.drop(columns=non_numeric_cols)\n",
    "X = data.iloc[:, :-1].values\n",
    "y = data.iloc[:, -1].values\n",
    "\n",
    "# One-hot encode 'Chr\n",
    "print(X.shape)\n",
    "ct = ColumnTransformer(transformers=[('encoder', OneHotEncoder(), [0])], remainder='passthrough')\n",
    "X = ct.fit_transform(data).toarray() # Convert to numpy array\n",
    "X"
   ]
  },
  {
   "cell_type": "code",
   "execution_count": 19,
   "id": "c8799b69-8cfb-455c-843b-487f2ad76108",
   "metadata": {},
   "outputs": [],
   "source": [
    "from sklearn.model_selection import train_test_split\n",
    "X_train, X_test, y_train, y_test = train_test_split(X, y, test_size = 0.5, random_state = 0, stratisfy=y)"
   ]
  },
  {
   "cell_type": "code",
   "execution_count": 20,
   "id": "01a318be-1c72-45b7-aaeb-6e3185116869",
   "metadata": {},
   "outputs": [
    {
     "name": "stdout",
     "output_type": "stream",
     "text": [
      "LinearSVC(dual=False, random_state=0)\n"
     ]
    }
   ],
   "source": [
    "from sklearn.svm import SVC\n",
    "from sklearn.svm import LinearSVC\n",
    "\n",
    "classifier = LinearSVC(random_state=0, dual=False)  # `dual=False` improves performance for large datasets\n",
    "model = classifier.fit(X_train, y_train)\n",
    "print(model)"
   ]
  },
  {
   "cell_type": "code",
   "execution_count": 21,
   "id": "3c711bd9-2096-4710-bbbb-4b0430cd2025",
   "metadata": {},
   "outputs": [],
   "source": [
    "from sklearn.metrics import confusion_matrix, accuracy_score, f1_score\n",
    "\n",
    "y_pred = classifier.predict(X_test)\n",
    "\n",
    "confusion = confusion_matrix(y_test, y_pred)\n",
    "accuracy = accuracy_score(y_test, y_pred)\n",
    "f1 = f1_score(y_test, y_pred)"
   ]
  },
  {
   "cell_type": "code",
   "execution_count": 22,
   "id": "fcd22168-6b5f-47de-bb4b-4e6cfd880432",
   "metadata": {},
   "outputs": [
    {
     "data": {
      "text/plain": [
       "array([[24023,     0],\n",
       "       [  637,     0]])"
      ]
     },
     "execution_count": 22,
     "metadata": {},
     "output_type": "execute_result"
    }
   ],
   "source": [
    "confusion"
   ]
  },
  {
   "cell_type": "code",
   "execution_count": 23,
   "id": "6adbd5c3-415f-49ff-8d84-bc7f1ee2170d",
   "metadata": {},
   "outputs": [
    {
     "data": {
      "text/plain": [
       "0.974168694241687"
      ]
     },
     "execution_count": 23,
     "metadata": {},
     "output_type": "execute_result"
    }
   ],
   "source": [
    "accuracy"
   ]
  },
  {
   "cell_type": "code",
   "execution_count": 24,
   "id": "06fa0387-2522-4e3b-824f-d5b7ef2c7cbb",
   "metadata": {},
   "outputs": [
    {
     "data": {
      "text/plain": [
       "0.0"
      ]
     },
     "execution_count": 24,
     "metadata": {},
     "output_type": "execute_result"
    }
   ],
   "source": [
    "f1"
   ]
  },
  {
   "cell_type": "code",
   "execution_count": null,
   "id": "618e3552-d3ca-4a61-b08b-599c20046e18",
   "metadata": {},
   "outputs": [],
   "source": []
  }
 ],
 "metadata": {
  "kernelspec": {
   "display_name": "Python 3 (ipykernel)",
   "language": "python",
   "name": "python3"
  },
  "language_info": {
   "codemirror_mode": {
    "name": "ipython",
    "version": 3
   },
   "file_extension": ".py",
   "mimetype": "text/x-python",
   "name": "python",
   "nbconvert_exporter": "python",
   "pygments_lexer": "ipython3",
   "version": "3.10.16"
  }
 },
 "nbformat": 4,
 "nbformat_minor": 5
}
